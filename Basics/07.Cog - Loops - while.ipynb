{
 "cells": [
  {
   "cell_type": "code",
   "execution_count": null,
   "metadata": {},
   "outputs": [],
   "source": [
    "#while condition {\n",
    "#    statement1\n",
    "#    statement2\n",
    "#}\n",
    "#stateent3\n",
    "\n",
    "#while condition:\n",
    "#    statement1\n",
    "#    statement2\n",
    "#statement3"
   ]
  },
  {
   "cell_type": "code",
   "execution_count": 1,
   "metadata": {},
   "outputs": [
    {
     "name": "stdout",
     "output_type": "stream",
     "text": [
      "Hope you will have good learning experience\n"
     ]
    }
   ],
   "source": [
    "while False:\n",
    "    print(\"Hello Cognitiors\")\n",
    "print(\"Hope you will have good learning experience\")"
   ]
  },
  {
   "cell_type": "code",
   "execution_count": null,
   "metadata": {},
   "outputs": [],
   "source": [
    "while True:\n",
    "    print(\"Hello Cognitiors\")\n",
    "print(\"Hope you will have good learning experience\")"
   ]
  },
  {
   "cell_type": "code",
   "execution_count": 2,
   "metadata": {},
   "outputs": [
    {
     "name": "stdout",
     "output_type": "stream",
     "text": [
      "0 Hello World\n",
      "1 Hello World\n",
      "2 Hello World\n",
      "3 Hello World\n",
      "4 Hello World\n",
      "5 Hello World\n",
      "6 Hello World\n",
      "7 Hello World\n",
      "8 Hello World\n",
      "9 Hello World\n",
      "Loop Ends\n"
     ]
    }
   ],
   "source": [
    "x=0\n",
    "while x<10:\n",
    "    print(x,\"Hello World\")\n",
    "    x=x+1\n",
    "print(\"Loop Ends\")"
   ]
  },
  {
   "cell_type": "code",
   "execution_count": 5,
   "metadata": {},
   "outputs": [
    {
     "name": "stdout",
     "output_type": "stream",
     "text": [
      "Total quantity left is: 100\n",
      "Total quantity left is: 99\n",
      "Total quantity left is: 98\n",
      "Total quantity left is: 97\n",
      "Total quantity left is: 96\n",
      "Total quantity left is: 95\n",
      "Total quantity left is: 94\n",
      "Total quantity left is: 93\n",
      "Total quantity left is: 92\n",
      "Total quantity left is: 91\n",
      "Total quantity left is: 90\n",
      "Total quantity left is: 89\n",
      "Total quantity left is: 88\n",
      "Total quantity left is: 87\n",
      "Total quantity left is: 86\n",
      "Total quantity left is: 85\n",
      "Total quantity left is: 84\n",
      "Total quantity left is: 83\n",
      "Total quantity left is: 82\n",
      "Total quantity left is: 81\n",
      "Total quantity left is: 80\n",
      "Total quantity left is: 79\n",
      "Total quantity left is: 78\n",
      "Total quantity left is: 77\n",
      "Total quantity left is: 76\n",
      "Total quantity left is: 75\n",
      "Total quantity left is: 74\n",
      "Total quantity left is: 73\n",
      "Total quantity left is: 72\n",
      "Total quantity left is: 71\n",
      "Total quantity left is: 70\n",
      "Total quantity left is: 69\n",
      "Total quantity left is: 68\n",
      "Total quantity left is: 67\n",
      "Total quantity left is: 66\n",
      "Total quantity left is: 65\n",
      "Total quantity left is: 64\n",
      "Total quantity left is: 63\n",
      "Total quantity left is: 62\n",
      "Total quantity left is: 61\n",
      "Total quantity left is: 60\n",
      "Total quantity left is: 59\n",
      "Total quantity left is: 58\n",
      "Total quantity left is: 57\n",
      "Total quantity left is: 56\n",
      "Total quantity left is: 55\n",
      "Total quantity left is: 54\n",
      "Total quantity left is: 53\n",
      "Total quantity left is: 52\n",
      "Total quantity left is: 51\n",
      "Total quantity left is: 50\n",
      "Total quantity left is: 49\n",
      "Total quantity left is: 48\n",
      "Total quantity left is: 47\n",
      "Total quantity left is: 46\n",
      "Total quantity left is: 45\n",
      "Total quantity left is: 44\n",
      "Total quantity left is: 43\n",
      "Total quantity left is: 42\n",
      "Total quantity left is: 41\n",
      "Total quantity left is: 40\n",
      "Total quantity left is: 39\n",
      "Total quantity left is: 38\n",
      "Total quantity left is: 37\n",
      "Total quantity left is: 36\n",
      "Total quantity left is: 35\n",
      "Total quantity left is: 34\n",
      "Total quantity left is: 33\n",
      "Total quantity left is: 32\n",
      "Total quantity left is: 31\n",
      "Total quantity left is: 30\n",
      "Total quantity left is: 29\n",
      "Total quantity left is: 28\n",
      "Total quantity left is: 27\n",
      "Total quantity left is: 26\n",
      "Total quantity left is: 25\n",
      "Total quantity left is: 24\n",
      "Total quantity left is: 23\n",
      "Total quantity left is: 22\n",
      "Total quantity left is: 21\n",
      "Total quantity left is: 20\n",
      "Total quantity left is: 19\n",
      "Total quantity left is: 18\n",
      "Total quantity left is: 17\n",
      "Total quantity left is: 16\n",
      "Total quantity left is: 15\n",
      "Total quantity left is: 14\n",
      "Total quantity left is: 13\n",
      "Total quantity left is: 12\n",
      "Total quantity left is: 11\n",
      "Total quantity left is: 10\n",
      "Total quantity left is: 9\n",
      "Total quantity left is: 8\n",
      "Total quantity left is: 7\n",
      "Total quantity left is: 6\n",
      "Total quantity left is: 5\n",
      "Total quantity left is: 4\n",
      "Total quantity left is: 3\n",
      "Total quantity left is: 2\n",
      "Total quantity left is: 1\n",
      "Total quantity left is: 0\n",
      "No coupouns are available\n"
     ]
    }
   ],
   "source": [
    "total_quantity = 100\n",
    "utilized_coupoun = 0\n",
    "while utilized_coupoun<101:\n",
    "    print(\"Total quantity left is:\" + \" \" + str(total_quantity-utilized_coupoun))\n",
    "    utilized_coupoun=utilized_coupoun+1\n",
    "print(\"No coupouns are available\")"
   ]
  }
 ],
 "metadata": {
  "kernelspec": {
   "display_name": "Python 3",
   "language": "python",
   "name": "python3"
  },
  "language_info": {
   "codemirror_mode": {
    "name": "ipython",
    "version": 3
   },
   "file_extension": ".py",
   "mimetype": "text/x-python",
   "name": "python",
   "nbconvert_exporter": "python",
   "pygments_lexer": "ipython3",
   "version": "3.6.8"
  }
 },
 "nbformat": 4,
 "nbformat_minor": 2
}
